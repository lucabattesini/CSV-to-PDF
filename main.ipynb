{
 "cells": [
  {
   "cell_type": "code",
   "execution_count": 1,
   "metadata": {},
   "outputs": [],
   "source": [
    "import pandas as pd"
   ]
  },
  {
   "cell_type": "markdown",
   "metadata": {},
   "source": [
    "## Reading the file"
   ]
  },
  {
   "cell_type": "code",
   "execution_count": 2,
   "metadata": {},
   "outputs": [],
   "source": [
    "df = pd.read_csv(\"./files/input/data.csv\")"
   ]
  },
  {
   "cell_type": "markdown",
   "metadata": {},
   "source": [
    "## Turning the file readable"
   ]
  },
  {
   "cell_type": "code",
   "execution_count": 26,
   "metadata": {},
   "outputs": [],
   "source": [
    "colunas = df.columns\n",
    "with open('text.md', 'w') as txt_file:\n",
    "    txt_file.write(\"\")\n",
    "\n",
    "def write_title(title) :\n",
    "    with open('text.md', 'a') as txt_file:\n",
    "            txt_file.write(f'# {title}\\n')\n",
    "\n",
    "def write_subtitle(subtitle) :\n",
    "    with open('text.md', 'a') as txt_file:\n",
    "        txt_file.write(f'### {subtitle}\\n')\n",
    "\n",
    "def div() :\n",
    "    with open('text.md', 'a') as txt_file:\n",
    "            txt_file.write('\\n----\\n')\n",
    "\n",
    "for i, linha in df.iterrows():\n",
    "    for nome_coluna in colunas:\n",
    "        valor = df.loc[i, nome_coluna]\n",
    "        if nome_coluna == \"name\":\n",
    "            write_title(valor)\n",
    "\n",
    "        elif nome_coluna == \"phone\":\n",
    "             write_subtitle(valor)\n",
    "\n",
    "        elif nome_coluna == \"email\":\n",
    "             write_subtitle(valor)\n",
    "\n",
    "        elif nome_coluna == \"list\":\n",
    "             with open('text.md', 'a') as txt_file:\n",
    "                txt_file.write(f'### Brand: \\n      {valor}\\n\\n')\n",
    "\n",
    "        elif nome_coluna == \"url\":\n",
    "             with open('text.md', 'a') as txt_file:\n",
    "                txt_file.write(f'### Perfil link: \\n        {valor}\\n\\n')\n",
    "\n",
    "        else:\n",
    "            with open('text.md', 'a') as txt_file:\n",
    "                txt_file.write(f'### Description:\\n')\n",
    "            with open('text.md', 'a') as txt_file:\n",
    "                txt_file.write(f'> {valor}\\n\\n\\n')\n",
    "    div()\n",
    "    "
   ]
  }
 ],
 "metadata": {
  "kernelspec": {
   "display_name": "venv",
   "language": "python",
   "name": "python3"
  },
  "language_info": {
   "codemirror_mode": {
    "name": "ipython",
    "version": 3
   },
   "file_extension": ".py",
   "mimetype": "text/x-python",
   "name": "python",
   "nbconvert_exporter": "python",
   "pygments_lexer": "ipython3",
   "version": "3.11.3"
  },
  "orig_nbformat": 4
 },
 "nbformat": 4,
 "nbformat_minor": 2
}
