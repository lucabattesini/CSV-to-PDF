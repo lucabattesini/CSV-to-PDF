{
 "cells": [
  {
   "cell_type": "code",
   "execution_count": 2,
   "metadata": {},
   "outputs": [],
   "source": [
    "import pandas as pd"
   ]
  },
  {
   "cell_type": "markdown",
   "metadata": {},
   "source": [
    "## Reading the file"
   ]
  },
  {
   "cell_type": "code",
   "execution_count": 3,
   "metadata": {},
   "outputs": [],
   "source": [
    "df = pd.read_csv(\"./files/input/data.csv\")"
   ]
  },
  {
   "cell_type": "markdown",
   "metadata": {},
   "source": [
    "## Turning the file readable"
   ]
  },
  {
   "cell_type": "code",
   "execution_count": 5,
   "metadata": {},
   "outputs": [],
   "source": [
    "colunas = df.columns\n",
    "with open('text.md', 'w') as txt_file:\n",
    "    txt_file.write(\"\")\n",
    "\n",
    "def write_title(title) :\n",
    "    with open('text.md', 'a') as txt_file:\n",
    "            txt_file.write(f'# {title}\\n')\n",
    "\n",
    "def write_subtitle(subtitle) :\n",
    "    with open('text.md', 'a') as txt_file:\n",
    "        txt_file.write(f'## {subtitle}\\n')\n",
    "\n",
    "def div() :\n",
    "    with open('text.md', 'a') as txt_file:\n",
    "            txt_file.write('\\n---\\n')\n",
    "\n",
    "for i, linha in df.iterrows():\n",
    "    for nome_coluna in colunas:\n",
    "        valor = df.loc[i, nome_coluna]\n",
    "        if nome_coluna == \"name\":\n",
    "            write_title(valor)\n",
    "        elif nome_coluna == \"phone\":\n",
    "             write_subtitle(valor)\n",
    "        elif nome_coluna == \"email\":\n",
    "             write_subtitle(valor)\n",
    "        else:\n",
    "            with open('text.md', 'a') as txt_file:\n",
    "                txt_file.write(f'> {nome_coluna}: {valor}\\n\\n')\n",
    "    div()\n",
    "    "
   ]
  },
  {
   "cell_type": "markdown",
   "metadata": {},
   "source": [
    "## Saving the CSV file in a txt file\n"
   ]
  },
  {
   "cell_type": "code",
   "execution_count": 4,
   "metadata": {},
   "outputs": [
    {
     "name": "stdout",
     "output_type": "stream",
     "text": [
      "oi\n"
     ]
    },
    {
     "ename": "TypeError",
     "evalue": "write() argument must be str, not None",
     "output_type": "error",
     "traceback": [
      "\u001b[1;31m---------------------------------------------------------------------------\u001b[0m",
      "\u001b[1;31mTypeError\u001b[0m                                 Traceback (most recent call last)",
      "Cell \u001b[1;32mIn[4], line 2\u001b[0m\n\u001b[0;32m      1\u001b[0m \u001b[39mwith\u001b[39;00m \u001b[39mopen\u001b[39m(\u001b[39m'\u001b[39m\u001b[39mpronto.txt\u001b[39m\u001b[39m'\u001b[39m, \u001b[39m'\u001b[39m\u001b[39mw\u001b[39m\u001b[39m'\u001b[39m) \u001b[39mas\u001b[39;00m txt_file:\n\u001b[1;32m----> 2\u001b[0m     txt_file\u001b[39m.\u001b[39;49mwrite(\u001b[39mprint\u001b[39;49m(\u001b[39m\"\u001b[39;49m\u001b[39moi\u001b[39;49m\u001b[39m\"\u001b[39;49m))\n",
      "\u001b[1;31mTypeError\u001b[0m: write() argument must be str, not None"
     ]
    }
   ],
   "source": [
    "with open('pronto.txt', 'w') as txt_file:\n",
    "    txt_file.write()"
   ]
  }
 ],
 "metadata": {
  "kernelspec": {
   "display_name": "venv",
   "language": "python",
   "name": "python3"
  },
  "language_info": {
   "codemirror_mode": {
    "name": "ipython",
    "version": 3
   },
   "file_extension": ".py",
   "mimetype": "text/x-python",
   "name": "python",
   "nbconvert_exporter": "python",
   "pygments_lexer": "ipython3",
   "version": "3.11.3"
  },
  "orig_nbformat": 4
 },
 "nbformat": 4,
 "nbformat_minor": 2
}
